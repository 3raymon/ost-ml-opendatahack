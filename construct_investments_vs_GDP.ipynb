{
 "cells": [
  {
   "cell_type": "markdown",
   "metadata": {},
   "source": [
    "# Kanton St.Gallen: construct investments vs. GDP\n",
    "## Question\n",
    "How much do construct investments influence the GDP (gross domestic product) of the kantone St.Gallen.  \n",
    "\n",
    "### Strategie\n",
    "With the correlation of data from the past, it is tried to get an infromation about wether the construct investments do have an influence on the GDP or not.\n",
    "\n",
    "### Datasets\n",
    "- The GDP in million SFr. per year, from 2008 - 2018, \n",
    "    - ([link](http://stada2.sg.ch/)/Arbeit und Unternehmen/Wertschöpfung/Bruttoinlandprodukt(BIP)[Mio. Fr.])\n",
    "- The construct investment in million SFr. per year, from 1997 - 2019\n",
    "    - ([link](http://stada2.sg.ch/)/Bau und Immobilien/Bauinvestitionen/Bauinvestitionen/Bauinvestitionen[Mio.Fr.])"
   ]
  },
  {
   "cell_type": "code",
   "execution_count": 1,
   "metadata": {},
   "outputs": [],
   "source": [
    "# Init\n",
    "import numpy as np\n",
    "import pandas as pd\n",
    "pd.options.mode.chained_assignment = None\n",
    "import matplotlib.pyplot as plt\n",
    "from pprint import pprint as pp\n",
    "import statsmodels.formula.api as smf\n",
    "import statsmodels.api as sm"
   ]
  },
  {
   "cell_type": "code",
   "execution_count": 2,
   "metadata": {},
   "outputs": [
    {
     "name": "stderr",
     "output_type": "stream",
     "text": [
      "/home/ponte/.local/lib/python3.8/site-packages/openpyxl/styles/stylesheet.py:226: UserWarning: Workbook contains no default style, apply openpyxl's default\n",
      "  warn(\"Workbook contains no default style, apply openpyxl's default\")\n"
     ]
    }
   ],
   "source": [
    "# read in datasets\n",
    "df_construct_investments = pd.read_excel(\"raw_datasets/construct_investments.xlsx\", engine=\"openpyxl\")\n",
    "df_gdp = pd.read_excel(\"raw_datasets/gdp.xlsx\", engine=\"openpyxl\")"
   ]
  },
  {
   "cell_type": "code",
   "execution_count": 3,
   "metadata": {},
   "outputs": [],
   "source": [
    "# parse construct investments for St.Gallsen\n",
    "df_construct_investments_st_gallen = df_construct_investments.loc[df_construct_investments['GEBIET_NAME'] == 'Kanton St.Gallen']\n",
    "df_construct_investments_st_gallen.drop(df_construct_investments_st_gallen.columns[[0,1]], axis=1, inplace=True)\n",
    "df_construct_investments_st_gallen = df_construct_investments_st_gallen.transpose().reset_index()\n",
    "df_construct_investments_st_gallen.columns = ['index', \"construct_investments\"]\n",
    "df_construct_investments_st_gallen.sort_values(\"index\", inplace=True)\n",
    "df_construct_investments_st_gallen = df_construct_investments_st_gallen.astype(float)"
   ]
  },
  {
   "cell_type": "code",
   "execution_count": 4,
   "metadata": {},
   "outputs": [],
   "source": [
    "# parse GDP for St.Gallsen\n",
    "df_gdp_st_gallen = df_gdp.loc[df_gdp['GEBIET_NAME'] == 'Kanton St.Gallen']\n",
    "df_gdp_st_gallen.drop(df_gdp_st_gallen.columns[[0,1]], axis=1, inplace=True)\n",
    "df_gdp_st_gallen = df_gdp_st_gallen.transpose().reset_index()\n",
    "df_gdp_st_gallen.columns = ['index', \"gdp\"]\n",
    "df_gdp_st_gallen.sort_values(\"index\", inplace=True)\n",
    "df_gdp_st_gallen = df_gdp_st_gallen.astype(float)"
   ]
  },
  {
   "cell_type": "code",
   "execution_count": 5,
   "metadata": {},
   "outputs": [],
   "source": [
    "# merge datasets\n",
    "df_merge = pd.merge(df_construct_investments_st_gallen, df_gdp_st_gallen)"
   ]
  },
  {
   "cell_type": "markdown",
   "metadata": {},
   "source": [
    "## Correlate data\n",
    "now as the datasets are parsed and prepaired in a merged DataFrame, a simple linear regression model is generated.  \n",
    "**statsmodels.formula.api.ols** creates a linear model following an ordinaty least quare strategy  "
   ]
  },
  {
   "cell_type": "code",
   "execution_count": 6,
   "metadata": {},
   "outputs": [],
   "source": [
    "model = smf.ols(formula='gdp ~ construct_investments', data=df_merge)\n",
    "result = model.fit()"
   ]
  },
  {
   "cell_type": "markdown",
   "metadata": {},
   "source": [
    "## Display Regression\n",
    "Plot the calculated OLS model and view the regression"
   ]
  },
  {
   "cell_type": "code",
   "execution_count": 7,
   "metadata": {},
   "outputs": [
    {
     "data": {
      "image/png": "[encoded data removed]",
      "text/plain": [
       "<Figure size 1080x576 with 1 Axes>"
      ]
     },
     "metadata": {
      "needs_background": "light"
     },
     "output_type": "display_data"
    }
   ],
   "source": [
    "fig, ax = plt.subplots()\n",
    "ax.plot(df_merge['construct_investments'], df_merge['gdp'], 'o', label='Test Data')\n",
    "ax.plot(np.linspace(2e3,3.5e3,100), result.params['Intercept']+np.linspace(2e3,3.5e3,100)*result.params['construct_investments'], label='Learned Model')\n",
    "ax.legend(loc=\"best\")\n",
    "ax.set_title('Test Dataset')\n",
    "fig.set_size_inches(15,8)"
   ]
  },
  {
   "cell_type": "markdown",
   "metadata": {},
   "source": [
    "## Validation"
   ]
  },
  {
   "cell_type": "code",
   "execution_count": 8,
   "metadata": {},
   "outputs": [
    {
     "name": "stdout",
     "output_type": "stream",
     "text": [
      "                            OLS Regression Results                            \n",
      "==============================================================================\n",
      "Dep. Variable:                    gdp   R-squared:                       0.232\n",
      "Model:                            OLS   Adj. R-squared:                  0.147\n",
      "Method:                 Least Squares   F-statistic:                     2.722\n",
      "Date:                Mon, 08 Nov 2021   Prob (F-statistic):              0.133\n",
      "Time:                        18:12:50   Log-Likelihood:                -94.524\n",
      "No. Observations:                  11   AIC:                             193.0\n",
      "Df Residuals:                       9   BIC:                             193.8\n",
      "Df Model:                           1                                         \n",
      "Covariance Type:            nonrobust                                         \n",
      "=========================================================================================\n",
      "                            coef    std err          t      P>|t|      [0.025      0.975]\n",
      "-----------------------------------------------------------------------------------------\n",
      "Intercept               1.94e+04   1.03e+04      1.891      0.091   -3808.802    4.26e+04\n",
      "construct_investments     6.2215      3.771      1.650      0.133      -2.309      14.752\n",
      "==============================================================================\n",
      "Omnibus:                        6.152   Durbin-Watson:                   0.393\n",
      "Prob(Omnibus):                  0.046   Jarque-Bera (JB):                1.339\n",
      "Skew:                          -0.003   Prob(JB):                        0.512\n",
      "Kurtosis:                       1.291   Cond. No.                     6.42e+04\n",
      "==============================================================================\n",
      "\n",
      "Notes:\n",
      "[1] Standard Errors assume that the covariance matrix of the errors is correctly specified.\n",
      "[2] The condition number is large, 6.42e+04. This might indicate that there are\n",
      "strong multicollinearity or other numerical problems.\n"
     ]
    },
    {
     "name": "stderr",
     "output_type": "stream",
     "text": [
      "/home/ponte/.local/lib/python3.8/site-packages/scipy/stats/stats.py:1541: UserWarning: kurtosistest only valid for n>=20 ... continuing anyway, n=11\n",
      "  warnings.warn(\"kurtosistest only valid for n>=20 ... continuing \"\n"
     ]
    }
   ],
   "source": [
    "print(result.summary())"
   ]
  },
  {
   "cell_type": "markdown",
   "metadata": {},
   "source": [
    "The **R-squared** shows that the two datasets (GDP and the construction investments) do not follow exactly the given data points. The construction investments do in the best case only have a 23.2% influence on the GDP. Still there is a relation ship.  \n",
    "\n",
    "The significance told by the **F-Statisic** with a relatively high value, is poor.  \n",
    "\n",
    "Summarised can be said, that there might be a common linearity but that the GDP does not heavily relates on the construction investments."
   ]
  },
  {
   "cell_type": "markdown",
   "metadata": {},
   "source": []
  }
 ],
 "metadata": {
  "interpreter": {
   "hash": "916dbcbb3f70747c44a77c7bcd40155683ae19c65e1c03b4aa3499c5328201f1"
  },
  "kernelspec": {
   "display_name": "Python 3.8.10 64-bit",
   "name": "python3"
  },
  "language_info": {
   "codemirror_mode": {
    "name": "ipython",
    "version": 3
   },
   "file_extension": ".py",
   "mimetype": "text/x-python",
   "name": "python",
   "nbconvert_exporter": "python",
   "pygments_lexer": "ipython3",
   "version": "3.8.10"
  },
  "orig_nbformat": 4
 },
 "nbformat": 4,
 "nbformat_minor": 2
}
